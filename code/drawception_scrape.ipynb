{
 "cells": [
  {
   "cell_type": "markdown",
   "metadata": {},
   "source": [
    "## IDEAL SCRAPE\n",
    "\n",
    "image : author : panel-number : pre-caption : post-caption : smile : love : haha : wow : duck : game_url : player_num : game_duration: game_date : game_tags"
   ]
  },
  {
   "cell_type": "code",
   "execution_count": 1,
   "metadata": {},
   "outputs": [],
   "source": [
    "# Import libraries\n",
    "import pandas as pd\n",
    "import requests\n",
    "from bs4 import BeautifulSoup\n",
    "import json\n",
    "import time\n",
    "import os\n",
    "from IPython.display import clear_output"
   ]
  },
  {
   "cell_type": "code",
   "execution_count": 2,
   "metadata": {},
   "outputs": [
    {
     "data": {
      "text/plain": [
       "200"
      ]
     },
     "execution_count": 2,
     "metadata": {},
     "output_type": "execute_result"
    }
   ],
   "source": [
    "base_url = 'https://drawception.com'\n",
    "res = requests.get(base_url)\n",
    "res.status_code"
   ]
  },
  {
   "cell_type": "code",
   "execution_count": null,
   "metadata": {},
   "outputs": [],
   "source": [
    "# More URLs to test with\n",
    "url = 'https://drawception.com/game/DWP1BQgR2b/data-science/'\n",
    "url24 = 'https://drawception.com/game/DY3RD2GtGQ/the-great-dolphin-war-of-76/'\n",
    "urltopgray = 'https://drawception.com/game/6EwXD7nBqD/camping-in-the-woods/'"
   ]
  },
  {
   "cell_type": "markdown",
   "metadata": {},
   "source": [
    "### Scrape Function\n",
    "\n",
    "This function takes a drawception game and records the game into a dataframe."
   ]
  },
  {
   "cell_type": "code",
   "execution_count": 3,
   "metadata": {},
   "outputs": [],
   "source": [
    "def scrape_game(game_url):\n",
    "    \n",
    "    # Collect page information\n",
    "    base_url = 'https://drawception.com'\n",
    "    res = requests.get(base_url+game_url)\n",
    "    soup = BeautifulSoup(res.content, 'lxml')\n",
    "    \n",
    "    # Get panels variable and check that the game page has panels\n",
    "    # If no panels then something is up with the game so skip it. NSFW games do this.\n",
    "    panels = soup.find_all(attrs = {'class':'col-sm-12 col-md-4'})\n",
    "    if len(panels) == 0:\n",
    "        return None\n",
    "    \n",
    "    # Escape if page doesn't load\n",
    "    if res.status_code != 200:\n",
    "        return None\n",
    "    \n",
    "    ### Header stuff that applies to all panels ###\n",
    "    #  game_url : player_num : game_duration: game_date : game_tags\n",
    "    \n",
    "    # html with tags like 'top game' color palette and other misc tags\n",
    "    top_padding = soup.find(attrs = {'class':'text-center add-padding-bottom2x add-padding-top'})\n",
    "    game_tags = []\n",
    "    if top_padding != None:\n",
    "        game_tags = list(set([s.text.strip() for s in top_padding.find_all(name='span')]))\n",
    "\n",
    "    # String with player count duration and game date\n",
    "    header_str = soup.find(name='p', attrs={'class':'lead text-muted add-margin-top2x'}).text\n",
    "    header_str = header_str.strip().split()\n",
    "\n",
    "    player_num = header_str[0]\n",
    "    game_date = ' '.join(header_str[6:9])\n",
    "    game_duration = ' '.join(header_str[11:13])\n",
    "    \n",
    "    \n",
    "    data_rows = []\n",
    "    for i in range(len(panels)):\n",
    "        if panels[i].find('img') != None:\n",
    "\n",
    "            this_row = {}\n",
    "            # Things to collect for this row:\n",
    "            #  panel-number : pre-caption : post-caption : image : author : smile : love : haha : wow : duck\n",
    "\n",
    "            # Check if this is the first panel then record the pre_caption\n",
    "            if i == 0:\n",
    "                this_row['pre_caption'] = 'draw_first'\n",
    "            else:\n",
    "                this_row['pre_caption'] = panels[i].find(name = 'img').attrs['title']\n",
    "\n",
    "            # Check if this is the last panel then record the post_caption\n",
    "            if i == (len(panels)-1):\n",
    "                this_row['post_caption'] = 'draw_last'\n",
    "            else:\n",
    "                this_row['post_caption'] = panels[i+1].find(name='p').text.strip()\n",
    "\n",
    "            # Image URL\n",
    "            this_row['image_url'] = panels[i].find('img').attrs['src']\n",
    "\n",
    "            # Author name (deleted or banned accounts appear as OooOOOoOo)\n",
    "            if panels[i].find(attrs = {'class':'panel-user'}).find('a') != None:\n",
    "                this_row['author'] = panels[i].find(attrs = {'class':'panel-user'}).find('a').text\n",
    "            else:\n",
    "                # Ghost name\n",
    "                this_row['author'] = panels[i].find(attrs = {'class':'panel-user'}).find('span').text\n",
    "                \n",
    "            # Panel number is simple to collect\n",
    "            this_row['panel_number'] = i+1\n",
    "\n",
    "            # Reactions could exist or not exist in a dictionary. Start by setting all of them to 0.\n",
    "            reaction_types = ['LIKE', 'HAHA', 'WOW', 'LOVE', 'DUCK']\n",
    "            react_data = json.loads(panels[i].find('reactions').attrs['reactions_data'])\n",
    "            for react in reaction_types:\n",
    "                this_row[react] = 0\n",
    "            # Now loop through the reaction dictionary and reset the non-zeros\n",
    "            for react_dict in react_data:\n",
    "                this_row[react_dict['id']] = react_dict['num']\n",
    "                \n",
    "            # Add in the universal game stuff here\n",
    "            # game_url : player_num : game_duration: game_date : game_tags\n",
    "            this_row['game_url'] = game_url\n",
    "            this_row['player_num'] = player_num\n",
    "            this_row['game_date'] = game_date\n",
    "            this_row['game_tags'] = game_tags\n",
    "\n",
    "            data_rows.append(this_row)\n",
    "            \n",
    "            # Sleep here, no matter how the function is called the sleep is included\n",
    "            time.sleep(1)\n",
    "\n",
    "    return pd.DataFrame(data_rows)"
   ]
  },
  {
   "cell_type": "markdown",
   "metadata": {},
   "source": [
    "### Index Page Scrape to find the Games\n",
    "\n",
    "This function scrapes the browse games page for url's to games. It takes an integer of the number of pages to scrape and returns a list of game url's. It scrapes from oldest to newest, there are a maximum of 100 pages of history and 21 games per page."
   ]
  },
  {
   "cell_type": "code",
   "execution_count": 30,
   "metadata": {},
   "outputs": [],
   "source": [
    "# Function to scrape all pages in the browse games part of drawception up to specified number.\n",
    "# Thanks to: https://towardsdatascience.com/the-simplest-cleanest-method-for-tracking-a-for-loops-progress-and-expected-run-time-in-python-972675392b3\n",
    "def scrape_recent(stop_page):\n",
    "    \n",
    "    browse_games_url = 'https://drawception.com/browse/recent-games/'\n",
    "    game_list = []\n",
    "    \n",
    "    # Make sure I don't access a page that doesn't exist\n",
    "    if (stop_page > 100) | (stop_page <= 0):\n",
    "        stop_page = 100\n",
    "    \n",
    "    # look at all pages in reverse order, by going backwards if (when!) the list shifts in the middle of scraping \n",
    "    # we miss a game instead of getting a duplicate.\n",
    "    for i in range(stop_page,0,-1):\n",
    "        \n",
    "        clear_output(wait=True)\n",
    "        \n",
    "        res = requests.get(f'{browse_games_url}{i}/')\n",
    "        soup = BeautifulSoup(res.content, 'lxml')\n",
    "        temp_list = [game.attrs['href'] for game in soup.find_all(attrs={'class':'thumbpanel'})]\n",
    "        game_list.extend(temp_list)\n",
    "        \n",
    "        print(f'Scraped page {i}')\n",
    "        time.sleep(1)\n",
    "    \n",
    "    return game_list"
   ]
  },
  {
   "cell_type": "markdown",
   "metadata": {},
   "source": [
    "## Collect the Game List\n",
    "The game completion rate is so high that the entire 2100 browsable games are refreshed in less than 5 days. This means that even though the 2100 games isn't enough, I can scrape every few days and it won't take long for me to accumulate as much data as I need. It also means that my data will be chronologically very close together (rather than over the 5+ years the site has been running).\n",
    "\n",
    "The cells below are for collecting game url's. The game data itself can be collected at any point afterward."
   ]
  },
  {
   "cell_type": "code",
   "execution_count": null,
   "metadata": {},
   "outputs": [],
   "source": [
    "# Read in saved games list and convert from dataframe back to list, keep commented for safety\n",
    "games_df = pd.read_csv('games_dec28.csv')\n",
    "games = games_df['0'].tolist()"
   ]
  },
  {
   "cell_type": "markdown",
   "metadata": {},
   "source": [
    "This chain of cells collects new data, extends the variable games with the new_scrape games. Then gets rid of the duplicates. Then there is the stuff for writing to a file."
   ]
  },
  {
   "cell_type": "code",
   "execution_count": 31,
   "metadata": {},
   "outputs": [
    {
     "name": "stdout",
     "output_type": "stream",
     "text": [
      "Scraped page 1\n"
     ]
    },
    {
     "data": {
      "text/plain": [
       "2100"
      ]
     },
     "execution_count": 31,
     "metadata": {},
     "output_type": "execute_result"
    }
   ],
   "source": [
    "new_scrape = scrape_recent(100)\n",
    "len(new_scrape)"
   ]
  },
  {
   "cell_type": "code",
   "execution_count": null,
   "metadata": {},
   "outputs": [],
   "source": [
    "# Adds the lists together then gets rid of duplicates (possibly altering the order in some random fashon?)\n",
    "games.extend(new_scrape)\n",
    "games = list(set(games))"
   ]
  },
  {
   "cell_type": "code",
   "execution_count": null,
   "metadata": {},
   "outputs": [],
   "source": [
    "# Check to see how much data I have\n",
    "print(f'Number of games: {len(games)}')\n",
    "print(f'Minimum drawings in those games: {len(games)*6}')"
   ]
  },
  {
   "cell_type": "code",
   "execution_count": 32,
   "metadata": {},
   "outputs": [],
   "source": [
    "# Save the list to a file, ### CHANGE THE FILENAME ###\n",
    "game_df = pd.DataFrame(new_scrape)\n",
    "game_df.to_csv('games_jan17.csv', index=False)"
   ]
  },
  {
   "cell_type": "markdown",
   "metadata": {},
   "source": [
    "### Scrape Data from Games on the List\n",
    "Check if I have the data, if not scrape it. Move to the next item on the list. Repeat for a fixed number of list items. This way I'm never scraping for to long, and if I run into a game that doesn't scrape right I don't lose everything. I can rerun the code over and over until every item on the list shows up in the final data set."
   ]
  },
  {
   "cell_type": "code",
   "execution_count": 33,
   "metadata": {},
   "outputs": [],
   "source": [
    "# Use older games list first because the games will have had time to accumulate likes\n",
    "# Read in saved games list and convert from dataframe back to list, keep commented for safety\n",
    "games_df = pd.read_csv('games_dec31.csv')\n",
    "oldest_games = games_df['0'].tolist()"
   ]
  },
  {
   "cell_type": "code",
   "execution_count": 5,
   "metadata": {},
   "outputs": [],
   "source": [
    "# Run first scrape to initialize the columns of the master DataFrame\n",
    "# This is commented out so that I don't accidently rerun the cell and overwrite the DF\n",
    "\n",
    "#drawception = scrape_game(oldest_games[0])\n",
    "drawception = pd.read_csv('drawception_master.csv')"
   ]
  },
  {
   "cell_type": "code",
   "execution_count": 34,
   "metadata": {},
   "outputs": [
    {
     "data": {
      "text/plain": [
       "(34249, 14)"
      ]
     },
     "execution_count": 34,
     "metadata": {},
     "output_type": "execute_result"
    }
   ],
   "source": [
    "drawception.shape"
   ]
  },
  {
   "cell_type": "code",
   "execution_count": 7,
   "metadata": {},
   "outputs": [],
   "source": [
    "# scrape list\n",
    "def batch_scrape(game_list, dataframe, batch_size):\n",
    "    # Count up to batch size like a while loop. Use a for loop to handle the edge case of finishing the list\n",
    "    count = 0\n",
    "    \n",
    "    for i in range(len(game_list)):\n",
    "        if game_list[i] not in list(drawception['game_url']):\n",
    "            \n",
    "            clear_output(wait=True)\n",
    "            count += 1\n",
    "            \n",
    "            print(f'Scraped page {count}/{batch_size} - {game_list[i]}')\n",
    "            scrape_game(game_list[i])\n",
    "            dataframe = dataframe.append(scrape_game(game_list[i]))\n",
    "            \n",
    "            if count >= batch_size:\n",
    "                return dataframe\n",
    "    print('End of Game List')\n",
    "    return dataframe"
   ]
  },
  {
   "cell_type": "code",
   "execution_count": 36,
   "metadata": {},
   "outputs": [
    {
     "name": "stdout",
     "output_type": "stream",
     "text": [
      "Scraped page 110/500 - /game/hTmaaZz1MT/author/\n",
      "End of Game List\n"
     ]
    }
   ],
   "source": [
    "drawception = batch_scrape(oldest_games, drawception, 500)"
   ]
  },
  {
   "cell_type": "code",
   "execution_count": 39,
   "metadata": {},
   "outputs": [
    {
     "data": {
      "text/plain": [
       "(38058, 14)"
      ]
     },
     "execution_count": 39,
     "metadata": {},
     "output_type": "execute_result"
    }
   ],
   "source": [
    "drawception.shape"
   ]
  },
  {
   "cell_type": "code",
   "execution_count": 37,
   "metadata": {},
   "outputs": [],
   "source": [
    "# Save the data to a file, ### CHANGE THE FILENAME ###\n",
    "drawception.to_csv('drawception_master.csv', index=False)"
   ]
  },
  {
   "cell_type": "code",
   "execution_count": 16,
   "metadata": {},
   "outputs": [
    {
     "data": {
      "text/plain": [
       "0"
      ]
     },
     "execution_count": 16,
     "metadata": {},
     "output_type": "execute_result"
    }
   ],
   "source": [
    "drawception.duplicated(subset='image_url').sum()"
   ]
  },
  {
   "cell_type": "code",
   "execution_count": 19,
   "metadata": {},
   "outputs": [
    {
     "data": {
      "text/plain": [
       "1188"
      ]
     },
     "execution_count": 19,
     "metadata": {},
     "output_type": "execute_result"
    }
   ],
   "source": [
    "drawception.shape[0] - len(oldest_games)*6"
   ]
  },
  {
   "cell_type": "code",
   "execution_count": null,
   "metadata": {},
   "outputs": [],
   "source": [
    "drawception[drawception['author']=='GugloPWN'].head()"
   ]
  },
  {
   "cell_type": "markdown",
   "metadata": {},
   "source": [
    "### Save images locally from the DataFrame\n",
    "\n",
    "This function will go through the dataframe and check if the image exists locally. If the image is here, it moves on, if it's not it gets the image. The file path is similar to how it is saved on the website."
   ]
  },
  {
   "cell_type": "code",
   "execution_count": 23,
   "metadata": {},
   "outputs": [],
   "source": [
    "# Thanks to AlexG on stack exchange\n",
    "# https://stackoverflow.com/questions/8286352/how-to-save-an-image-locally-using-python-whose-url-address-i-already-know\n",
    "def image_scrape(dataframe, batch_size):\n",
    "\n",
    "    # Count up to batch size like a while loop. Use a for loop to handle the edge case of finishing the list\n",
    "    count = 0\n",
    "    \n",
    "    for _, row in dataframe.iterrows():\n",
    "        \n",
    "        # Get the file path from the url. My local data will mirror the url.\n",
    "        path_list = row['image_url'].split('/')\n",
    "        my_file = f'./{\"/\".join(path_list[3:6])}'\n",
    "        \n",
    "        # Check if the image is already downloaded\n",
    "        if not os.path.exists(my_file):\n",
    "        \n",
    "            # This code runs if the image needs scraping\n",
    "            clear_output(wait=True)\n",
    "            count += 1\n",
    "            print(f'Scraped image {count}/{batch_size} - {my_file}')\n",
    "\n",
    "            # Create directory if it doesn't exist\n",
    "            my_path = f'./{\"/\".join(path_list[3:5])}'\n",
    "            if not os.path.exists(my_path):\n",
    "                os.makedirs(my_path)\n",
    "\n",
    "            # Get the image from the web\n",
    "            page = requests.get(row['image_url'])\n",
    "            time.sleep(1)\n",
    "\n",
    "            # Write image file\n",
    "            with open(my_file, 'wb') as f:\n",
    "                f.write(page.content)\n",
    "                \n",
    "            # Escape early so I can control how long this code runs\n",
    "            if count >= batch_size:\n",
    "                return\n",
    "                \n",
    "    print('End of DataFrame')\n",
    "    return"
   ]
  },
  {
   "cell_type": "code",
   "execution_count": null,
   "metadata": {},
   "outputs": [],
   "source": [
    "drawception.head(5)"
   ]
  },
  {
   "cell_type": "code",
   "execution_count": 38,
   "metadata": {},
   "outputs": [
    {
     "name": "stdout",
     "output_type": "stream",
     "text": [
      "Scraped image 3809/10000 - ./drawings/750124/3VMbZOwjsr.png\n",
      "End of DataFrame\n"
     ]
    }
   ],
   "source": [
    "image_scrape(drawception, 10000)"
   ]
  },
  {
   "cell_type": "markdown",
   "metadata": {},
   "source": [
    "### TESTING Here I scrape a few games to get a testing set to build the image scrape function"
   ]
  },
  {
   "cell_type": "code",
   "execution_count": null,
   "metadata": {},
   "outputs": [],
   "source": [
    "games_sample = games[500:510]\n",
    "games_sample"
   ]
  },
  {
   "cell_type": "code",
   "execution_count": null,
   "metadata": {},
   "outputs": [],
   "source": [
    "games_sample[1:]"
   ]
  },
  {
   "cell_type": "code",
   "execution_count": null,
   "metadata": {},
   "outputs": [],
   "source": [
    "# Decent start at game scrape function.\n",
    "\n",
    "# Set up the DataFrame with the correct columns by reading in first game\n",
    "print(f'Scraping first game   -   {games_sample[0]}')\n",
    "testing_df = scrape_game(games_sample[0])\n",
    "\n",
    "# Loop through all the resrt of the games\n",
    "for i, game in enumerate(games_sample[1:]):\n",
    "    clear_output(wait=True)\n",
    "    print(f'Scraping {i+1} of {len(games_sample)-1}   -   {game}')\n",
    "    testing_df = testing_df.append(scrape_game(game))\n",
    "\n",
    "testing_df"
   ]
  },
  {
   "cell_type": "code",
   "execution_count": null,
   "metadata": {},
   "outputs": [],
   "source": [
    "testing_df['image_url'].head(1)"
   ]
  },
  {
   "cell_type": "code",
   "execution_count": null,
   "metadata": {},
   "outputs": [],
   "source": [
    "testing_df['image_url'].head(1)[0:10]"
   ]
  },
  {
   "cell_type": "code",
   "execution_count": null,
   "metadata": {},
   "outputs": [],
   "source": [
    "f_ext = os.path.splitext(url)[-1]\n",
    "f_name = 'img{}'.format(f_ext)\n",
    "with open(f_name, 'wb') as f:\n",
    "    f.write(page.content)"
   ]
  },
  {
   "cell_type": "code",
   "execution_count": null,
   "metadata": {},
   "outputs": [],
   "source": [
    "# Thanks to AlexG on stack exchange\n",
    "# https://stackoverflow.com/questions/8286352/how-to-save-an-image-locally-using-python-whose-url-address-i-already-know\n",
    "\n",
    "base_image_url = 'https://cdn.drawception.com'\n",
    "\n",
    "\n",
    "for index, row in testing_df.iterrows():\n",
    "    \n",
    "    # Get the file path from the url. My local data will mirror the url.\n",
    "    path_list = row['image_url'].split('/')\n",
    "    my_path = f'./{\"/\".join(path_list[3:5])}'\n",
    "    \n",
    "    # Create directory if it doesn't exist\n",
    "    if not os.path.exists(my_path):\n",
    "        os.makedirs(my_path)\n",
    "        \n",
    "    # Get the image from the web\n",
    "    page = requests.get(row['image_url'])\n",
    "    time.sleep(1)\n",
    "        \n",
    "    # Write image file\n",
    "    my_file = f'./{\"/\".join(path_list[3:6])}'\n",
    "    with open(my_file, 'wb') as f:\n",
    "        f.write(page.content)\n",
    "    print(my_file)"
   ]
  },
  {
   "cell_type": "code",
   "execution_count": null,
   "metadata": {},
   "outputs": [],
   "source": [
    "os.rmdir('test_dir')"
   ]
  },
  {
   "cell_type": "markdown",
   "metadata": {},
   "source": [
    "### Code for Exploring specific games HTML if I encounter something weird"
   ]
  },
  {
   "cell_type": "code",
   "execution_count": null,
   "metadata": {},
   "outputs": [],
   "source": [
    "scrape_game(panel_removed_url)"
   ]
  },
  {
   "cell_type": "code",
   "execution_count": null,
   "metadata": {},
   "outputs": [],
   "source": [
    "base_url = 'https://drawception.com'\n",
    "\n",
    "nsfw_url = 'https://drawception.com/game/7OCwsPr6Cg/darude-sandstorm/'\n",
    "panel_removed_url = 'https://drawception.com/game/q3XGN9TkMO/a-lonely-wizard-tower/'\n",
    "res = requests.get(nsfw_url)\n",
    "soup = BeautifulSoup(res.content, 'lxml')\n",
    "\n",
    "panels = soup.find_all(attrs = {'class':'col-sm-12 col-md-4'})"
   ]
  },
  {
   "cell_type": "code",
   "execution_count": null,
   "metadata": {},
   "outputs": [],
   "source": [
    "soup"
   ]
  },
  {
   "cell_type": "code",
   "execution_count": null,
   "metadata": {},
   "outputs": [],
   "source": [
    "panels[3]"
   ]
  },
  {
   "cell_type": "code",
   "execution_count": null,
   "metadata": {},
   "outputs": [],
   "source": [
    "panels[3].find(attrs = {'class':'panel-user'}).find('a')"
   ]
  },
  {
   "cell_type": "code",
   "execution_count": null,
   "metadata": {},
   "outputs": [],
   "source": [
    "if panels[3].find(attrs = {'class':'panel-user'}).find('a') != None:\n",
    "    print('name here')\n",
    "else:\n",
    "    print('no name')"
   ]
  },
  {
   "cell_type": "code",
   "execution_count": null,
   "metadata": {},
   "outputs": [],
   "source": [
    "drawception['DUCK'].value_counts()"
   ]
  },
  {
   "cell_type": "code",
   "execution_count": null,
   "metadata": {},
   "outputs": [],
   "source": [
    "drawception.dtypes"
   ]
  },
  {
   "cell_type": "code",
   "execution_count": null,
   "metadata": {},
   "outputs": [],
   "source": [
    "drawception['LIKE'] = drawception['LIKE'].astype(int)\n",
    "drawception['HAHA'] = drawception['HAHA'].astype(int)\n",
    "drawception['WOW'] = drawception['WOW'].astype(int)\n",
    "drawception['LOVE'] = drawception['LOVE'].astype(int)\n",
    "drawception['DUCK'] = drawception['DUCK'].astype(int)"
   ]
  },
  {
   "cell_type": "code",
   "execution_count": null,
   "metadata": {},
   "outputs": [],
   "source": [
    "import matplotlib.pyplot as plt\n",
    "import numpy as np"
   ]
  },
  {
   "cell_type": "code",
   "execution_count": null,
   "metadata": {},
   "outputs": [],
   "source": [
    "bins = np.linspace(1, 10, 10)\n",
    "\n",
    "plt.figure(figsize=(15,10))\n",
    "\n",
    "plt.hist([drawception['LIKE'],drawception['HAHA'],drawception['WOW'],drawception['LOVE'],drawception['DUCK']], \n",
    "         bins, \n",
    "         alpha=0.5, \n",
    "         label=['LIKE','HAHA','WOW','LOVE','DUCK'])\n",
    "\n",
    "plt.title('Reaction Counts by Drawings', size=28)\n",
    "plt.xlabel('Number of Reactions', size=20)\n",
    "plt.ylabel('Number of Drawing', size=20)\n",
    "plt.legend(loc='upper right', fontsize=20)\n",
    "plt.show()"
   ]
  },
  {
   "cell_type": "code",
   "execution_count": null,
   "metadata": {},
   "outputs": [],
   "source": [
    "drawception[(drawception['LIKE']==0) & (drawception['HAHA']==0) & (drawception['WOW']==0) & (drawception['LOVE']==0) & (drawception['DUCK']==0)].shape"
   ]
  },
  {
   "cell_type": "code",
   "execution_count": null,
   "metadata": {},
   "outputs": [],
   "source": [
    "drawception.shape"
   ]
  },
  {
   "cell_type": "code",
   "execution_count": null,
   "metadata": {},
   "outputs": [],
   "source": [
    "drawception.groupby(by='author').count()['DUCK'].mean()"
   ]
  },
  {
   "cell_type": "code",
   "execution_count": 40,
   "metadata": {},
   "outputs": [
    {
     "data": {
      "text/html": [
       "<div>\n",
       "<style scoped>\n",
       "    .dataframe tbody tr th:only-of-type {\n",
       "        vertical-align: middle;\n",
       "    }\n",
       "\n",
       "    .dataframe tbody tr th {\n",
       "        vertical-align: top;\n",
       "    }\n",
       "\n",
       "    .dataframe thead th {\n",
       "        text-align: right;\n",
       "    }\n",
       "</style>\n",
       "<table border=\"1\" class=\"dataframe\">\n",
       "  <thead>\n",
       "    <tr style=\"text-align: right;\">\n",
       "      <th></th>\n",
       "      <th>pre_caption</th>\n",
       "      <th>post_caption</th>\n",
       "      <th>image_url</th>\n",
       "      <th>author</th>\n",
       "      <th>panel_number</th>\n",
       "      <th>LIKE</th>\n",
       "      <th>HAHA</th>\n",
       "      <th>WOW</th>\n",
       "      <th>LOVE</th>\n",
       "      <th>DUCK</th>\n",
       "      <th>game_url</th>\n",
       "      <th>player_num</th>\n",
       "      <th>game_date</th>\n",
       "      <th>game_tags</th>\n",
       "    </tr>\n",
       "  </thead>\n",
       "  <tbody>\n",
       "    <tr>\n",
       "      <th>126</th>\n",
       "      <td>A Bunny peeking out behind blueberry bushes</td>\n",
       "      <td>draw_last</td>\n",
       "      <td>https://cdn.drawception.com/drawings/491204/8X...</td>\n",
       "      <td>GugloPWN</td>\n",
       "      <td>12</td>\n",
       "      <td>0</td>\n",
       "      <td>0</td>\n",
       "      <td>0</td>\n",
       "      <td>0</td>\n",
       "      <td>0</td>\n",
       "      <td>/game/5jwLfeXmqO/flowers/</td>\n",
       "      <td>12</td>\n",
       "      <td>December 18th, 2020</td>\n",
       "      <td>[]</td>\n",
       "    </tr>\n",
       "    <tr>\n",
       "      <th>1702</th>\n",
       "      <td>crow eating corn</td>\n",
       "      <td>Crow pecking at corn on a cob</td>\n",
       "      <td>https://cdn.drawception.com/drawings/491204/Vs...</td>\n",
       "      <td>GugloPWN</td>\n",
       "      <td>2</td>\n",
       "      <td>1</td>\n",
       "      <td>0</td>\n",
       "      <td>1</td>\n",
       "      <td>2</td>\n",
       "      <td>0</td>\n",
       "      <td>/game/Dc4WwMMjSc/crow-eating-corn/</td>\n",
       "      <td>12</td>\n",
       "      <td>December 18th, 2020</td>\n",
       "      <td>[]</td>\n",
       "    </tr>\n",
       "    <tr>\n",
       "      <th>6654</th>\n",
       "      <td>Elf archer</td>\n",
       "      <td>Robin Hood</td>\n",
       "      <td>https://cdn.drawception.com/drawings/491204/Wz...</td>\n",
       "      <td>GugloPWN</td>\n",
       "      <td>12</td>\n",
       "      <td>1</td>\n",
       "      <td>0</td>\n",
       "      <td>0</td>\n",
       "      <td>0</td>\n",
       "      <td>0</td>\n",
       "      <td>/game/9CwW4HRczH/grandmother/</td>\n",
       "      <td>15</td>\n",
       "      <td>December 20th, 2020</td>\n",
       "      <td>[]</td>\n",
       "    </tr>\n",
       "    <tr>\n",
       "      <th>9180</th>\n",
       "      <td>best gum brand ever</td>\n",
       "      <td>Nicotine gum</td>\n",
       "      <td>https://cdn.drawception.com/drawings/491204/Xh...</td>\n",
       "      <td>GugloPWN</td>\n",
       "      <td>10</td>\n",
       "      <td>0</td>\n",
       "      <td>0</td>\n",
       "      <td>0</td>\n",
       "      <td>1</td>\n",
       "      <td>0</td>\n",
       "      <td>/game/ay7KrSKXBn/prehistoric-beer/</td>\n",
       "      <td>12</td>\n",
       "      <td>December 21st, 2020</td>\n",
       "      <td>[]</td>\n",
       "    </tr>\n",
       "    <tr>\n",
       "      <th>9192</th>\n",
       "      <td>Avocado waves on a sunny day</td>\n",
       "      <td>he's got no idea what's coming</td>\n",
       "      <td>https://cdn.drawception.com/drawings/491204/Mw...</td>\n",
       "      <td>GugloPWN</td>\n",
       "      <td>10</td>\n",
       "      <td>1</td>\n",
       "      <td>0</td>\n",
       "      <td>0</td>\n",
       "      <td>0</td>\n",
       "      <td>0</td>\n",
       "      <td>/game/mbLHmdRn5n/punny-avocado/</td>\n",
       "      <td>12</td>\n",
       "      <td>December 21st, 2020</td>\n",
       "      <td>[]</td>\n",
       "    </tr>\n",
       "    <tr>\n",
       "      <th>9315</th>\n",
       "      <td>bee wins 1st place, ladybird 2nd</td>\n",
       "      <td>Bee is happy for getting first place</td>\n",
       "      <td>https://cdn.drawception.com/drawings/491204/63...</td>\n",
       "      <td>GugloPWN</td>\n",
       "      <td>10</td>\n",
       "      <td>0</td>\n",
       "      <td>2</td>\n",
       "      <td>0</td>\n",
       "      <td>2</td>\n",
       "      <td>0</td>\n",
       "      <td>/game/Pzt8xMbZ42/mosquito-blacksmith/</td>\n",
       "      <td>12</td>\n",
       "      <td>December 21st, 2020</td>\n",
       "      <td>[]</td>\n",
       "    </tr>\n",
       "    <tr>\n",
       "      <th>9836</th>\n",
       "      <td>Saving a Minecraft dog with a defibrillator</td>\n",
       "      <td>Person tries to revive animal</td>\n",
       "      <td>https://cdn.drawception.com/drawings/491204/wN...</td>\n",
       "      <td>GugloPWN</td>\n",
       "      <td>8</td>\n",
       "      <td>1</td>\n",
       "      <td>0</td>\n",
       "      <td>0</td>\n",
       "      <td>0</td>\n",
       "      <td>0</td>\n",
       "      <td>/game/77N66CWPm3/goat/</td>\n",
       "      <td>12</td>\n",
       "      <td>December 21st, 2020</td>\n",
       "      <td>[]</td>\n",
       "    </tr>\n",
       "    <tr>\n",
       "      <th>11876</th>\n",
       "      <td>evil tooth burns a tiny man in a jar</td>\n",
       "      <td>draw_last</td>\n",
       "      <td>https://cdn.drawception.com/drawings/491204/nX...</td>\n",
       "      <td>GugloPWN</td>\n",
       "      <td>12</td>\n",
       "      <td>0</td>\n",
       "      <td>0</td>\n",
       "      <td>0</td>\n",
       "      <td>0</td>\n",
       "      <td>0</td>\n",
       "      <td>/game/En8rQX9tb1/pepper-rocket-scientist/</td>\n",
       "      <td>12</td>\n",
       "      <td>December 22nd, 2020</td>\n",
       "      <td>[]</td>\n",
       "    </tr>\n",
       "    <tr>\n",
       "      <th>12778</th>\n",
       "      <td>Lion doing workout</td>\n",
       "      <td>Lion working out</td>\n",
       "      <td>https://cdn.drawception.com/drawings/491204/g8...</td>\n",
       "      <td>GugloPWN</td>\n",
       "      <td>6</td>\n",
       "      <td>0</td>\n",
       "      <td>0</td>\n",
       "      <td>0</td>\n",
       "      <td>0</td>\n",
       "      <td>0</td>\n",
       "      <td>/game/bhsCCLT1xA/tiger-jogging-with-raspberries/</td>\n",
       "      <td>12</td>\n",
       "      <td>December 22nd, 2020</td>\n",
       "      <td>[]</td>\n",
       "    </tr>\n",
       "    <tr>\n",
       "      <th>13084</th>\n",
       "      <td>draw_first</td>\n",
       "      <td>Guy stuck in gigantic hourglass in a desert</td>\n",
       "      <td>https://cdn.drawception.com/drawings/491204/s3...</td>\n",
       "      <td>GugloPWN</td>\n",
       "      <td>1</td>\n",
       "      <td>2</td>\n",
       "      <td>0</td>\n",
       "      <td>0</td>\n",
       "      <td>0</td>\n",
       "      <td>0</td>\n",
       "      <td>/game/rY1qxdtF5Q/guy-stuck-in-gigantic-hourgla...</td>\n",
       "      <td>12</td>\n",
       "      <td>December 22nd, 2020</td>\n",
       "      <td>[]</td>\n",
       "    </tr>\n",
       "    <tr>\n",
       "      <th>13516</th>\n",
       "      <td>Milk Carton stares at a brick wall blankly</td>\n",
       "      <td>milk stares at red wall</td>\n",
       "      <td>https://cdn.drawception.com/drawings/491204/Gn...</td>\n",
       "      <td>GugloPWN</td>\n",
       "      <td>8</td>\n",
       "      <td>0</td>\n",
       "      <td>3</td>\n",
       "      <td>0</td>\n",
       "      <td>0</td>\n",
       "      <td>0</td>\n",
       "      <td>/game/RhZZ7G6SNx/snow-cube/</td>\n",
       "      <td>15</td>\n",
       "      <td>December 22nd, 2020</td>\n",
       "      <td>[]</td>\n",
       "    </tr>\n",
       "    <tr>\n",
       "      <th>13978</th>\n",
       "      <td>godzilla destroys bad news</td>\n",
       "      <td>Godzilla burning covid news channel</td>\n",
       "      <td>https://cdn.drawception.com/drawings/491204/28...</td>\n",
       "      <td>GugloPWN</td>\n",
       "      <td>6</td>\n",
       "      <td>2</td>\n",
       "      <td>0</td>\n",
       "      <td>0</td>\n",
       "      <td>0</td>\n",
       "      <td>0</td>\n",
       "      <td>/game/A2ayWc1PtE/secret-2020-boss-level/</td>\n",
       "      <td>15</td>\n",
       "      <td>December 24th, 2020</td>\n",
       "      <td>[]</td>\n",
       "    </tr>\n",
       "    <tr>\n",
       "      <th>16678</th>\n",
       "      <td>Rubber Duck Paradise</td>\n",
       "      <td>duck paradise</td>\n",
       "      <td>https://cdn.drawception.com/drawings/491204/sG...</td>\n",
       "      <td>GugloPWN</td>\n",
       "      <td>4</td>\n",
       "      <td>1</td>\n",
       "      <td>2</td>\n",
       "      <td>0</td>\n",
       "      <td>3</td>\n",
       "      <td>0</td>\n",
       "      <td>/game/6zPgz1F6N8/rubber-duck-chilling/</td>\n",
       "      <td>12</td>\n",
       "      <td>December 22nd, 2020</td>\n",
       "      <td>[]</td>\n",
       "    </tr>\n",
       "    <tr>\n",
       "      <th>18920</th>\n",
       "      <td>bronze chicken</td>\n",
       "      <td>the Golden Duck Award</td>\n",
       "      <td>https://cdn.drawception.com/drawings/491204/fk...</td>\n",
       "      <td>GugloPWN</td>\n",
       "      <td>4</td>\n",
       "      <td>0</td>\n",
       "      <td>0</td>\n",
       "      <td>0</td>\n",
       "      <td>0</td>\n",
       "      <td>1</td>\n",
       "      <td>/game/85SyFBLMft/rooster/</td>\n",
       "      <td>12</td>\n",
       "      <td>December 24th, 2020</td>\n",
       "      <td>[]</td>\n",
       "    </tr>\n",
       "    <tr>\n",
       "      <th>19233</th>\n",
       "      <td>Dabbing minecraft zombie on fire</td>\n",
       "      <td>Minecraft zombie on fire</td>\n",
       "      <td>https://cdn.drawception.com/drawings/491204/Dd...</td>\n",
       "      <td>GugloPWN</td>\n",
       "      <td>10</td>\n",
       "      <td>0</td>\n",
       "      <td>0</td>\n",
       "      <td>0</td>\n",
       "      <td>0</td>\n",
       "      <td>0</td>\n",
       "      <td>/game/6jCFwOPYQR/comical-castle/</td>\n",
       "      <td>12</td>\n",
       "      <td>December 24th, 2020</td>\n",
       "      <td>[]</td>\n",
       "    </tr>\n",
       "    <tr>\n",
       "      <th>2</th>\n",
       "      <td>Devil scared of waves</td>\n",
       "      <td>The devil about to get hit by a rogue wave</td>\n",
       "      <td>https://cdn.drawception.com/drawings/491204/67...</td>\n",
       "      <td>GugloPWN</td>\n",
       "      <td>6</td>\n",
       "      <td>0</td>\n",
       "      <td>0</td>\n",
       "      <td>0</td>\n",
       "      <td>0</td>\n",
       "      <td>0</td>\n",
       "      <td>/game/69N3f5dqDs/demon-in-a-tsunami/</td>\n",
       "      <td>12</td>\n",
       "      <td>December 28th, 2020</td>\n",
       "      <td>[]</td>\n",
       "    </tr>\n",
       "    <tr>\n",
       "      <th>1</th>\n",
       "      <td>a drug dealer singing</td>\n",
       "      <td>Cocaine addict hijacks theater play</td>\n",
       "      <td>https://cdn.drawception.com/drawings/491204/7D...</td>\n",
       "      <td>GugloPWN</td>\n",
       "      <td>3</td>\n",
       "      <td>0</td>\n",
       "      <td>6</td>\n",
       "      <td>0</td>\n",
       "      <td>0</td>\n",
       "      <td>0</td>\n",
       "      <td>/game/74kGY3jfra/a-drug-dealer-singing/</td>\n",
       "      <td>12</td>\n",
       "      <td>December 29th, 2020</td>\n",
       "      <td>[]</td>\n",
       "    </tr>\n",
       "    <tr>\n",
       "      <th>4</th>\n",
       "      <td>waterfall envelope</td>\n",
       "      <td>mailing the ocean</td>\n",
       "      <td>https://cdn.drawception.com/drawings/491204/9A...</td>\n",
       "      <td>GugloPWN</td>\n",
       "      <td>10</td>\n",
       "      <td>1</td>\n",
       "      <td>0</td>\n",
       "      <td>0</td>\n",
       "      <td>0</td>\n",
       "      <td>0</td>\n",
       "      <td>/game/qzgFr291qC/mailman/</td>\n",
       "      <td>12</td>\n",
       "      <td>December 29th, 2020</td>\n",
       "      <td>[]</td>\n",
       "    </tr>\n",
       "    <tr>\n",
       "      <th>0</th>\n",
       "      <td>Boar in the Matrix</td>\n",
       "      <td>A tuskless boar, stuck inside the Matrix</td>\n",
       "      <td>https://cdn.drawception.com/drawings/491204/QZ...</td>\n",
       "      <td>GugloPWN</td>\n",
       "      <td>2</td>\n",
       "      <td>2</td>\n",
       "      <td>0</td>\n",
       "      <td>0</td>\n",
       "      <td>0</td>\n",
       "      <td>0</td>\n",
       "      <td>/game/3p9eKSjQdX/boar-in-the-matrix/</td>\n",
       "      <td>12</td>\n",
       "      <td>December 30th, 2020</td>\n",
       "      <td>[]</td>\n",
       "    </tr>\n",
       "  </tbody>\n",
       "</table>\n",
       "</div>"
      ],
      "text/plain": [
       "                                       pre_caption  \\\n",
       "126    A Bunny peeking out behind blueberry bushes   \n",
       "1702                              crow eating corn   \n",
       "6654                                    Elf archer   \n",
       "9180                           best gum brand ever   \n",
       "9192                  Avocado waves on a sunny day   \n",
       "9315              bee wins 1st place, ladybird 2nd   \n",
       "9836   Saving a Minecraft dog with a defibrillator   \n",
       "11876         evil tooth burns a tiny man in a jar   \n",
       "12778                           Lion doing workout   \n",
       "13084                                   draw_first   \n",
       "13516   Milk Carton stares at a brick wall blankly   \n",
       "13978                   godzilla destroys bad news   \n",
       "16678                         Rubber Duck Paradise   \n",
       "18920                               bronze chicken   \n",
       "19233             Dabbing minecraft zombie on fire   \n",
       "2                            Devil scared of waves   \n",
       "1                            a drug dealer singing   \n",
       "4                               waterfall envelope   \n",
       "0                               Boar in the Matrix   \n",
       "\n",
       "                                      post_caption  \\\n",
       "126                                      draw_last   \n",
       "1702                 Crow pecking at corn on a cob   \n",
       "6654                                    Robin Hood   \n",
       "9180                                  Nicotine gum   \n",
       "9192                he's got no idea what's coming   \n",
       "9315          Bee is happy for getting first place   \n",
       "9836                 Person tries to revive animal   \n",
       "11876                                    draw_last   \n",
       "12778                             Lion working out   \n",
       "13084  Guy stuck in gigantic hourglass in a desert   \n",
       "13516                      milk stares at red wall   \n",
       "13978          Godzilla burning covid news channel   \n",
       "16678                                duck paradise   \n",
       "18920                        the Golden Duck Award   \n",
       "19233                     Minecraft zombie on fire   \n",
       "2       The devil about to get hit by a rogue wave   \n",
       "1              Cocaine addict hijacks theater play   \n",
       "4                                mailing the ocean   \n",
       "0         A tuskless boar, stuck inside the Matrix   \n",
       "\n",
       "                                               image_url    author  \\\n",
       "126    https://cdn.drawception.com/drawings/491204/8X...  GugloPWN   \n",
       "1702   https://cdn.drawception.com/drawings/491204/Vs...  GugloPWN   \n",
       "6654   https://cdn.drawception.com/drawings/491204/Wz...  GugloPWN   \n",
       "9180   https://cdn.drawception.com/drawings/491204/Xh...  GugloPWN   \n",
       "9192   https://cdn.drawception.com/drawings/491204/Mw...  GugloPWN   \n",
       "9315   https://cdn.drawception.com/drawings/491204/63...  GugloPWN   \n",
       "9836   https://cdn.drawception.com/drawings/491204/wN...  GugloPWN   \n",
       "11876  https://cdn.drawception.com/drawings/491204/nX...  GugloPWN   \n",
       "12778  https://cdn.drawception.com/drawings/491204/g8...  GugloPWN   \n",
       "13084  https://cdn.drawception.com/drawings/491204/s3...  GugloPWN   \n",
       "13516  https://cdn.drawception.com/drawings/491204/Gn...  GugloPWN   \n",
       "13978  https://cdn.drawception.com/drawings/491204/28...  GugloPWN   \n",
       "16678  https://cdn.drawception.com/drawings/491204/sG...  GugloPWN   \n",
       "18920  https://cdn.drawception.com/drawings/491204/fk...  GugloPWN   \n",
       "19233  https://cdn.drawception.com/drawings/491204/Dd...  GugloPWN   \n",
       "2      https://cdn.drawception.com/drawings/491204/67...  GugloPWN   \n",
       "1      https://cdn.drawception.com/drawings/491204/7D...  GugloPWN   \n",
       "4      https://cdn.drawception.com/drawings/491204/9A...  GugloPWN   \n",
       "0      https://cdn.drawception.com/drawings/491204/QZ...  GugloPWN   \n",
       "\n",
       "       panel_number LIKE HAHA WOW LOVE DUCK  \\\n",
       "126              12    0    0   0    0    0   \n",
       "1702              2    1    0   1    2    0   \n",
       "6654             12    1    0   0    0    0   \n",
       "9180             10    0    0   0    1    0   \n",
       "9192             10    1    0   0    0    0   \n",
       "9315             10    0    2   0    2    0   \n",
       "9836              8    1    0   0    0    0   \n",
       "11876            12    0    0   0    0    0   \n",
       "12778             6    0    0   0    0    0   \n",
       "13084             1    2    0   0    0    0   \n",
       "13516             8    0    3   0    0    0   \n",
       "13978             6    2    0   0    0    0   \n",
       "16678             4    1    2   0    3    0   \n",
       "18920             4    0    0   0    0    1   \n",
       "19233            10    0    0   0    0    0   \n",
       "2                 6    0    0   0    0    0   \n",
       "1                 3    0    6   0    0    0   \n",
       "4                10    1    0   0    0    0   \n",
       "0                 2    2    0   0    0    0   \n",
       "\n",
       "                                                game_url player_num  \\\n",
       "126                            /game/5jwLfeXmqO/flowers/         12   \n",
       "1702                  /game/Dc4WwMMjSc/crow-eating-corn/         12   \n",
       "6654                       /game/9CwW4HRczH/grandmother/         15   \n",
       "9180                  /game/ay7KrSKXBn/prehistoric-beer/         12   \n",
       "9192                     /game/mbLHmdRn5n/punny-avocado/         12   \n",
       "9315               /game/Pzt8xMbZ42/mosquito-blacksmith/         12   \n",
       "9836                              /game/77N66CWPm3/goat/         12   \n",
       "11876          /game/En8rQX9tb1/pepper-rocket-scientist/         12   \n",
       "12778   /game/bhsCCLT1xA/tiger-jogging-with-raspberries/         12   \n",
       "13084  /game/rY1qxdtF5Q/guy-stuck-in-gigantic-hourgla...         12   \n",
       "13516                        /game/RhZZ7G6SNx/snow-cube/         15   \n",
       "13978           /game/A2ayWc1PtE/secret-2020-boss-level/         15   \n",
       "16678             /game/6zPgz1F6N8/rubber-duck-chilling/         12   \n",
       "18920                          /game/85SyFBLMft/rooster/         12   \n",
       "19233                   /game/6jCFwOPYQR/comical-castle/         12   \n",
       "2                   /game/69N3f5dqDs/demon-in-a-tsunami/         12   \n",
       "1                /game/74kGY3jfra/a-drug-dealer-singing/         12   \n",
       "4                              /game/qzgFr291qC/mailman/         12   \n",
       "0                   /game/3p9eKSjQdX/boar-in-the-matrix/         12   \n",
       "\n",
       "                 game_date game_tags  \n",
       "126    December 18th, 2020        []  \n",
       "1702   December 18th, 2020        []  \n",
       "6654   December 20th, 2020        []  \n",
       "9180   December 21st, 2020        []  \n",
       "9192   December 21st, 2020        []  \n",
       "9315   December 21st, 2020        []  \n",
       "9836   December 21st, 2020        []  \n",
       "11876  December 22nd, 2020        []  \n",
       "12778  December 22nd, 2020        []  \n",
       "13084  December 22nd, 2020        []  \n",
       "13516  December 22nd, 2020        []  \n",
       "13978  December 24th, 2020        []  \n",
       "16678  December 22nd, 2020        []  \n",
       "18920  December 24th, 2020        []  \n",
       "19233  December 24th, 2020        []  \n",
       "2      December 28th, 2020        []  \n",
       "1      December 29th, 2020        []  \n",
       "4      December 29th, 2020        []  \n",
       "0      December 30th, 2020        []  "
      ]
     },
     "execution_count": 40,
     "metadata": {},
     "output_type": "execute_result"
    }
   ],
   "source": [
    "drawception[drawception['author']=='GugloPWN']"
   ]
  },
  {
   "cell_type": "code",
   "execution_count": null,
   "metadata": {},
   "outputs": [],
   "source": []
  }
 ],
 "metadata": {
  "kernelspec": {
   "display_name": "Python 3",
   "language": "python",
   "name": "python3"
  },
  "language_info": {
   "codemirror_mode": {
    "name": "ipython",
    "version": 3
   },
   "file_extension": ".py",
   "mimetype": "text/x-python",
   "name": "python",
   "nbconvert_exporter": "python",
   "pygments_lexer": "ipython3",
   "version": "3.8.3"
  }
 },
 "nbformat": 4,
 "nbformat_minor": 4
}
