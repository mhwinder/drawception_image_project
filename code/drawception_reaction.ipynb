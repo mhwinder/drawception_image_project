{
 "cells": [
  {
   "cell_type": "markdown",
   "metadata": {},
   "source": [
    "# Drawception Reactions\n",
    "\n",
    "This Notebook will create models to predict the number of reactions a Drawception image will recieve. There are 5 reactions an image can recieve and each one will need a different model. I will also make a prediction model of total reactions an image recieves."
   ]
  },
  {
   "cell_type": "code",
   "execution_count": 1,
   "metadata": {},
   "outputs": [],
   "source": [
    "# Import required libraries\n",
    "import numpy as np\n",
    "import pandas as pd\n",
    "import matplotlib.pyplot as plt\n",
    "\n",
    "from tensorflow.keras.models import Sequential\n",
    "from tensorflow.keras.layers import Dense, Dropout, Flatten, Conv2D, MaxPooling2D\n",
    "from tensorflow.keras import utils\n",
    "\n",
    "import os\n",
    "import PIL\n",
    "import PIL.Image"
   ]
  },
  {
   "cell_type": "code",
   "execution_count": 2,
   "metadata": {},
   "outputs": [],
   "source": [
    "# Grab the data\n",
    "drawception = pd.read_csv('drawception_master.csv')"
   ]
  },
  {
   "cell_type": "code",
   "execution_count": 3,
   "metadata": {},
   "outputs": [],
   "source": [
    "# Add a total reactions feature\n",
    "drawception['REACT'] = drawception['LIKE']+drawception['HAHA']+drawception['WOW']+drawception['LOVE']+drawception['DUCK']\n",
    "\n",
    "# Add image path column\n",
    "drawception['img_path'] = ['/'.join(drawception.iloc[index,2].split('/')[3:6]) for index in range(len(drawception))]"
   ]
  },
  {
   "cell_type": "code",
   "execution_count": 4,
   "metadata": {},
   "outputs": [
    {
     "data": {
      "text/html": [
       "<div>\n",
       "<style scoped>\n",
       "    .dataframe tbody tr th:only-of-type {\n",
       "        vertical-align: middle;\n",
       "    }\n",
       "\n",
       "    .dataframe tbody tr th {\n",
       "        vertical-align: top;\n",
       "    }\n",
       "\n",
       "    .dataframe thead th {\n",
       "        text-align: right;\n",
       "    }\n",
       "</style>\n",
       "<table border=\"1\" class=\"dataframe\">\n",
       "  <thead>\n",
       "    <tr style=\"text-align: right;\">\n",
       "      <th></th>\n",
       "      <th>pre_caption</th>\n",
       "      <th>post_caption</th>\n",
       "      <th>image_url</th>\n",
       "      <th>author</th>\n",
       "      <th>panel_number</th>\n",
       "      <th>LIKE</th>\n",
       "      <th>HAHA</th>\n",
       "      <th>WOW</th>\n",
       "      <th>LOVE</th>\n",
       "      <th>DUCK</th>\n",
       "      <th>game_url</th>\n",
       "      <th>player_num</th>\n",
       "      <th>game_date</th>\n",
       "      <th>game_tags</th>\n",
       "      <th>REACT</th>\n",
       "      <th>img_path</th>\n",
       "    </tr>\n",
       "  </thead>\n",
       "  <tbody>\n",
       "    <tr>\n",
       "      <th>0</th>\n",
       "      <td>Guitar</td>\n",
       "      <td>brown guitar</td>\n",
       "      <td>https://cdn.drawception.com/drawings/1032692/1...</td>\n",
       "      <td>Alexyeaheyaha</td>\n",
       "      <td>2</td>\n",
       "      <td>0</td>\n",
       "      <td>0</td>\n",
       "      <td>0</td>\n",
       "      <td>0</td>\n",
       "      <td>0</td>\n",
       "      <td>/game/YC8aMef8Ox/guitar/</td>\n",
       "      <td>12</td>\n",
       "      <td>December 18th, 2020</td>\n",
       "      <td>['blitz mode']</td>\n",
       "      <td>0</td>\n",
       "      <td>drawings/1032692/1KqoCkwSjF.png</td>\n",
       "    </tr>\n",
       "    <tr>\n",
       "      <th>1</th>\n",
       "      <td>brown guitar</td>\n",
       "      <td>Guitar</td>\n",
       "      <td>https://cdn.drawception.com/drawings/1041492/c...</td>\n",
       "      <td>celemon</td>\n",
       "      <td>4</td>\n",
       "      <td>0</td>\n",
       "      <td>0</td>\n",
       "      <td>0</td>\n",
       "      <td>0</td>\n",
       "      <td>0</td>\n",
       "      <td>/game/YC8aMef8Ox/guitar/</td>\n",
       "      <td>12</td>\n",
       "      <td>December 18th, 2020</td>\n",
       "      <td>['blitz mode']</td>\n",
       "      <td>0</td>\n",
       "      <td>drawings/1041492/ct5kbWktZ9.png</td>\n",
       "    </tr>\n",
       "    <tr>\n",
       "      <th>2</th>\n",
       "      <td>Guitar</td>\n",
       "      <td>acoustic guitar</td>\n",
       "      <td>https://cdn.drawception.com/drawings/681336/dz...</td>\n",
       "      <td>Sarramiah and Daughter</td>\n",
       "      <td>6</td>\n",
       "      <td>0</td>\n",
       "      <td>0</td>\n",
       "      <td>0</td>\n",
       "      <td>0</td>\n",
       "      <td>0</td>\n",
       "      <td>/game/YC8aMef8Ox/guitar/</td>\n",
       "      <td>12</td>\n",
       "      <td>December 18th, 2020</td>\n",
       "      <td>['blitz mode']</td>\n",
       "      <td>0</td>\n",
       "      <td>drawings/681336/dzq8daFSvo.png</td>\n",
       "    </tr>\n",
       "  </tbody>\n",
       "</table>\n",
       "</div>"
      ],
      "text/plain": [
       "    pre_caption     post_caption  \\\n",
       "0        Guitar     brown guitar   \n",
       "1  brown guitar           Guitar   \n",
       "2        Guitar  acoustic guitar   \n",
       "\n",
       "                                           image_url                  author  \\\n",
       "0  https://cdn.drawception.com/drawings/1032692/1...           Alexyeaheyaha   \n",
       "1  https://cdn.drawception.com/drawings/1041492/c...                 celemon   \n",
       "2  https://cdn.drawception.com/drawings/681336/dz...  Sarramiah and Daughter   \n",
       "\n",
       "   panel_number  LIKE  HAHA  WOW  LOVE  DUCK                  game_url  \\\n",
       "0             2     0     0    0     0     0  /game/YC8aMef8Ox/guitar/   \n",
       "1             4     0     0    0     0     0  /game/YC8aMef8Ox/guitar/   \n",
       "2             6     0     0    0     0     0  /game/YC8aMef8Ox/guitar/   \n",
       "\n",
       "   player_num            game_date       game_tags  REACT  \\\n",
       "0          12  December 18th, 2020  ['blitz mode']      0   \n",
       "1          12  December 18th, 2020  ['blitz mode']      0   \n",
       "2          12  December 18th, 2020  ['blitz mode']      0   \n",
       "\n",
       "                          img_path  \n",
       "0  drawings/1032692/1KqoCkwSjF.png  \n",
       "1  drawings/1041492/ct5kbWktZ9.png  \n",
       "2   drawings/681336/dzq8daFSvo.png  "
      ]
     },
     "execution_count": 4,
     "metadata": {},
     "output_type": "execute_result"
    }
   ],
   "source": [
    "drawception.head(3)"
   ]
  },
  {
   "cell_type": "markdown",
   "metadata": {},
   "source": [
    "### Create Dataset Generator"
   ]
  },
  {
   "cell_type": "code",
   "execution_count": 5,
   "metadata": {},
   "outputs": [],
   "source": [
    "# Generator assistance provided by wiki.python.org\n",
    "\n",
    "# The iloc call is looking for img_path and is using 15 for that index right now\n",
    "def image_batch_gen(dataframe, batch_size, end):   \n",
    "    count = 0\n",
    "    while(1):\n",
    "        image_batch = np.empty((batch_size, 250, 300, 3))\n",
    "        label_batch = np.empty(batch_size)\n",
    "        \n",
    "        for i in range(batch_size):\n",
    "            my_image = PIL.Image.open(dataframe.iloc[count,15])\n",
    "            my_image = my_image.reduce(2)\n",
    "            \n",
    "            image_batch[i,:,:,:] = np.asarray(my_image)\n",
    "            label_batch[i] = drawception.iloc[count, 14]\n",
    "            \n",
    "            count += 1\n",
    "            if count < end:\n",
    "                count = 0\n",
    "        yield image_batch, label_batch        "
   ]
  },
  {
   "cell_type": "code",
   "execution_count": 6,
   "metadata": {},
   "outputs": [],
   "source": [
    "# Train Test Split the DF\n",
    "# thanks to Andy Hayden on stack exchange\n",
    "split = np.random.rand(len(drawception)) < 0.8\n",
    "\n",
    "train_df = drawception[split]\n",
    "test_df = drawception[~split]\n",
    "\n",
    "y_train = train_df['REACT']\n",
    "y_test = test_df['REACT']"
   ]
  },
  {
   "cell_type": "code",
   "execution_count": 7,
   "metadata": {},
   "outputs": [
    {
     "name": "stdout",
     "output_type": "stream",
     "text": [
      "(30308, 16)    30308\n",
      "(7750, 16)    7750\n"
     ]
    }
   ],
   "source": [
    "# Check that the data is split\n",
    "print(train_df.shape, '  ', len(y_train))\n",
    "print(test_df.shape, '  ', len(y_test))"
   ]
  },
  {
   "cell_type": "code",
   "execution_count": 16,
   "metadata": {},
   "outputs": [],
   "source": [
    "cnn_model = Sequential()\n",
    "\n",
    "# Add a convolutional layer.\n",
    "cnn_model.add(Conv2D(\n",
    "            filters=128,  # number of filters\n",
    "            kernel_size=(3, 3),    # height/width of filter\n",
    "            activation = 'relu',    # activation function \n",
    "            input_shape = (250, 300, 3))) # shape of input (image)\n",
    "\n",
    "cnn_model.add(MaxPooling2D\n",
    "             (pool_size=(2,2))) # dimensions of the region of pooling\n",
    "\n",
    "cnn_model.add(Conv2D(filters = 128,\n",
    "                    kernel_size = (3,3),\n",
    "                    activation = 'relu'))\n",
    "\n",
    "cnn_model.add(MaxPooling2D\n",
    "             (pool_size=(2,2))) # dimensions of the region of pooling\n",
    "\n",
    "\n",
    "cnn_model.add(Conv2D(filters = 64,\n",
    "                    kernel_size = (3,3),\n",
    "                    activation = 'relu'))\n",
    "\n",
    "cnn_model.add(Conv2D(filters = 64,\n",
    "                    kernel_size = (3,3),\n",
    "                    activation = 'relu'))\n",
    "\n",
    "cnn_model.add(MaxPooling2D\n",
    "             (pool_size=(2,2))) # dimensions of the region of pooling\n",
    "\n",
    "cnn_model.add(Flatten())\n",
    "\n",
    "cnn_model.add(Dense(128, activation='relu'))\n",
    "\n",
    "cnn_model.add(Dense(64, activation='relu'))\n",
    "cnn_model.add(Dropout(0.5))\n",
    "\n",
    "cnn_model.add(Dense(32, activation='relu'))\n",
    "cnn_model.add(Dropout(0.5))\n",
    "\n",
    "cnn_model.add(Dense(16, activation='relu'))\n",
    "\n",
    "cnn_model.add(Dense(1, activation='linear'))"
   ]
  },
  {
   "cell_type": "code",
   "execution_count": 17,
   "metadata": {},
   "outputs": [
    {
     "name": "stdout",
     "output_type": "stream",
     "text": [
      "Model: \"sequential_2\"\n",
      "_________________________________________________________________\n",
      "Layer (type)                 Output Shape              Param #   \n",
      "=================================================================\n",
      "conv2d_7 (Conv2D)            (None, 248, 298, 128)     3584      \n",
      "_________________________________________________________________\n",
      "max_pooling2d_7 (MaxPooling2 (None, 124, 149, 128)     0         \n",
      "_________________________________________________________________\n",
      "conv2d_8 (Conv2D)            (None, 122, 147, 128)     147584    \n",
      "_________________________________________________________________\n",
      "max_pooling2d_8 (MaxPooling2 (None, 61, 73, 128)       0         \n",
      "_________________________________________________________________\n",
      "conv2d_9 (Conv2D)            (None, 59, 71, 64)        73792     \n",
      "_________________________________________________________________\n",
      "conv2d_10 (Conv2D)           (None, 57, 69, 64)        36928     \n",
      "_________________________________________________________________\n",
      "max_pooling2d_9 (MaxPooling2 (None, 28, 34, 64)        0         \n",
      "_________________________________________________________________\n",
      "flatten_2 (Flatten)          (None, 60928)             0         \n",
      "_________________________________________________________________\n",
      "dense_10 (Dense)             (None, 128)               7798912   \n",
      "_________________________________________________________________\n",
      "dense_11 (Dense)             (None, 64)                8256      \n",
      "_________________________________________________________________\n",
      "dropout_4 (Dropout)          (None, 64)                0         \n",
      "_________________________________________________________________\n",
      "dense_12 (Dense)             (None, 32)                2080      \n",
      "_________________________________________________________________\n",
      "dropout_5 (Dropout)          (None, 32)                0         \n",
      "_________________________________________________________________\n",
      "dense_13 (Dense)             (None, 16)                528       \n",
      "_________________________________________________________________\n",
      "dense_14 (Dense)             (None, 1)                 17        \n",
      "=================================================================\n",
      "Total params: 8,071,681\n",
      "Trainable params: 8,071,681\n",
      "Non-trainable params: 0\n",
      "_________________________________________________________________\n"
     ]
    }
   ],
   "source": [
    "cnn_model.summary()"
   ]
  },
  {
   "cell_type": "code",
   "execution_count": 18,
   "metadata": {},
   "outputs": [],
   "source": [
    "# Compile model\n",
    "cnn_model.compile(loss='mse',\n",
    "                  optimizer='adam',\n",
    "                  metrics=['mae'])"
   ]
  },
  {
   "cell_type": "code",
   "execution_count": 19,
   "metadata": {},
   "outputs": [
    {
     "name": "stdout",
     "output_type": "stream",
     "text": [
      "Epoch 1/10\n",
      "3788/3788 [==============================] - 5358s 1s/step - loss: 44.6536 - mae: 0.1838\n",
      "Epoch 2/10\n",
      "3788/3788 [==============================] - 5052s 1s/step - loss: 4.8512e-07 - mae: 5.5409e-04\n",
      "Epoch 3/10\n",
      "3788/3788 [==============================] - 5036s 1s/step - loss: 1.7703e-08 - mae: 5.8933e-05\n",
      "Epoch 4/10\n",
      "3788/3788 [==============================] - 5087s 1s/step - loss: 1.3521e-11 - mae: 7.4376e-07\n",
      "Epoch 5/10\n",
      "3788/3788 [==============================] - 5083s 1s/step - loss: 1.8514e-14 - mae: 2.0649e-08\n",
      "Epoch 6/10\n",
      "3788/3788 [==============================] - 5106s 1s/step - loss: 1.4594e-23 - mae: 1.7060e-12\n",
      "Epoch 7/10\n",
      "3788/3788 [==============================] - 30477s 8s/step - loss: 7.1217e-10 - mae: 6.7091e-06\n",
      "Epoch 8/10\n",
      "3788/3788 [==============================] - 5075s 1s/step - loss: 7.3813e-10 - mae: 6.9565e-06\n",
      "Epoch 9/10\n",
      "3788/3788 [==============================] - 5110s 1s/step - loss: 7.8813e-10 - mae: 7.5446e-06\n",
      "Epoch 10/10\n",
      "3788/3788 [==============================] - 5159s 1s/step - loss: 8.3611e-10 - mae: 7.7194e-06\n"
     ]
    }
   ],
   "source": [
    "\n",
    "data_len = train_df.shape[0]\n",
    "my_batch_size = 8\n",
    "\n",
    "history = cnn_model.fit_generator(image_batch_gen(train_df, my_batch_size, data_len),\n",
    "                                  steps_per_epoch=data_len//my_batch_size,\n",
    "                                  epochs=10,\n",
    "                                  verbose=1)"
   ]
  },
  {
   "cell_type": "code",
   "execution_count": null,
   "metadata": {},
   "outputs": [],
   "source": [
    "testing = PIL.Image.open(drawception.iloc[12345,15])\n",
    "testing = testing.reduce(4)\n",
    "#testing[1,:,:,:] = np.asarray(testing)\n",
    "my_image = np.empty((1, 125, 150, 3))\n",
    "my_image[0,:,:,:] = np.asarray(testing)\n",
    "\n",
    "my_image.shape\n",
    "#drawception.iloc[2375,14]"
   ]
  },
  {
   "cell_type": "code",
   "execution_count": null,
   "metadata": {},
   "outputs": [],
   "source": [
    "drawception.iloc[12345,14]"
   ]
  },
  {
   "cell_type": "code",
   "execution_count": null,
   "metadata": {},
   "outputs": [],
   "source": [
    "cnn_model.predict(my_image)"
   ]
  },
  {
   "cell_type": "code",
   "execution_count": 20,
   "metadata": {},
   "outputs": [],
   "source": [
    "# The iloc call is looking for img_path and is using 15 for that index right now\n",
    "def test_batch(dataframe, size):   \n",
    "    \n",
    "    image_batch = np.empty((size, 250, 300, 3))\n",
    "    for i in range(size):\n",
    "        my_image = PIL.Image.open(dataframe.iloc[i,15])\n",
    "        my_image = my_image.reduce(2)\n",
    "            \n",
    "        image_batch[i,:,:,:] = np.asarray(my_image)\n",
    "            \n",
    "    return image_batch"
   ]
  },
  {
   "cell_type": "code",
   "execution_count": 26,
   "metadata": {},
   "outputs": [],
   "source": [
    "X_test = test_batch(test_df, 100)"
   ]
  },
  {
   "cell_type": "code",
   "execution_count": 27,
   "metadata": {},
   "outputs": [
    {
     "data": {
      "text/plain": [
       "(100, 250, 300, 3)"
      ]
     },
     "execution_count": 27,
     "metadata": {},
     "output_type": "execute_result"
    }
   ],
   "source": [
    "X_test.shape"
   ]
  },
  {
   "cell_type": "code",
   "execution_count": 28,
   "metadata": {},
   "outputs": [],
   "source": [
    "preds = cnn_model.predict(X_test)"
   ]
  },
  {
   "cell_type": "code",
   "execution_count": 29,
   "metadata": {},
   "outputs": [],
   "source": [
    "y_true = test_df['REACT'].head(100)"
   ]
  },
  {
   "cell_type": "code",
   "execution_count": 30,
   "metadata": {},
   "outputs": [
    {
     "data": {
      "text/plain": [
       "(100,)"
      ]
     },
     "execution_count": 30,
     "metadata": {},
     "output_type": "execute_result"
    }
   ],
   "source": [
    "y_true.shape"
   ]
  },
  {
   "cell_type": "code",
   "execution_count": 31,
   "metadata": {},
   "outputs": [],
   "source": [
    "from sklearn.metrics import r2_score"
   ]
  },
  {
   "cell_type": "code",
   "execution_count": 32,
   "metadata": {},
   "outputs": [
    {
     "data": {
      "text/plain": [
       "-0.8371321734390911"
      ]
     },
     "execution_count": 32,
     "metadata": {},
     "output_type": "execute_result"
    }
   ],
   "source": [
    "r2_score(y_true, preds)"
   ]
  },
  {
   "cell_type": "code",
   "execution_count": null,
   "metadata": {},
   "outputs": [],
   "source": [
    "y_true[:10]"
   ]
  },
  {
   "cell_type": "code",
   "execution_count": null,
   "metadata": {},
   "outputs": [],
   "source": [
    "test_df['preds'] = preds"
   ]
  },
  {
   "cell_type": "code",
   "execution_count": null,
   "metadata": {},
   "outputs": [],
   "source": [
    "test_df.sort_values(by='REACT', ascending=True).head(20)"
   ]
  },
  {
   "cell_type": "code",
   "execution_count": null,
   "metadata": {},
   "outputs": [],
   "source": [
    "PIL.Image.open(test_df[test_df.index == 17800]['img_path'].item())"
   ]
  },
  {
   "cell_type": "code",
   "execution_count": null,
   "metadata": {},
   "outputs": [],
   "source": [
    "test_df['preds'].plot(kind='hist', bins=100)"
   ]
  },
  {
   "cell_type": "code",
   "execution_count": null,
   "metadata": {},
   "outputs": [],
   "source": [
    "test_df['REACT'].plot(kind='hist', bins=100)"
   ]
  },
  {
   "cell_type": "code",
   "execution_count": 54,
   "metadata": {},
   "outputs": [],
   "source": [
    "def predict_batch(dataframe, model):   \n",
    "    \n",
    "    output = []\n",
    "    \n",
    "    image_dat = np.empty((1, 250, 300, 3))\n",
    "    for i in range(dataframe.shape[0]):\n",
    "        my_image = PIL.Image.open(dataframe.iloc[i,15])\n",
    "        my_image = my_image.reduce(2)\n",
    "            \n",
    "        image_dat[0,:,:,:] = np.asarray(my_image)\n",
    "        pred = model.predict(image_dat)\n",
    "        \n",
    "        img_dic = {}\n",
    "        img_dic['y_pred'] = pred.item()\n",
    "        img_dic['y_true'] = dataframe.iloc[i,14]\n",
    "        \n",
    "        output.append(img_dic)\n",
    "            \n",
    "    return output"
   ]
  },
  {
   "cell_type": "code",
   "execution_count": 55,
   "metadata": {},
   "outputs": [],
   "source": [
    "prediction_list = predict_batch(test_df, cnn_model)"
   ]
  },
  {
   "cell_type": "code",
   "execution_count": 56,
   "metadata": {},
   "outputs": [
    {
     "data": {
      "text/plain": [
       "7750"
      ]
     },
     "execution_count": 56,
     "metadata": {},
     "output_type": "execute_result"
    }
   ],
   "source": [
    "len(prediction_list)"
   ]
  },
  {
   "cell_type": "code",
   "execution_count": 50,
   "metadata": {},
   "outputs": [
    {
     "data": {
      "text/plain": [
       "(7750, 16)"
      ]
     },
     "execution_count": 50,
     "metadata": {},
     "output_type": "execute_result"
    }
   ],
   "source": [
    "test_df.shape"
   ]
  },
  {
   "cell_type": "code",
   "execution_count": 57,
   "metadata": {},
   "outputs": [
    {
     "data": {
      "text/html": [
       "<div>\n",
       "<style scoped>\n",
       "    .dataframe tbody tr th:only-of-type {\n",
       "        vertical-align: middle;\n",
       "    }\n",
       "\n",
       "    .dataframe tbody tr th {\n",
       "        vertical-align: top;\n",
       "    }\n",
       "\n",
       "    .dataframe thead th {\n",
       "        text-align: right;\n",
       "    }\n",
       "</style>\n",
       "<table border=\"1\" class=\"dataframe\">\n",
       "  <thead>\n",
       "    <tr style=\"text-align: right;\">\n",
       "      <th></th>\n",
       "      <th>y_pred</th>\n",
       "      <th>y_true</th>\n",
       "    </tr>\n",
       "  </thead>\n",
       "  <tbody>\n",
       "    <tr>\n",
       "      <th>0</th>\n",
       "      <td>-2.357639e-12</td>\n",
       "      <td>0</td>\n",
       "    </tr>\n",
       "    <tr>\n",
       "      <th>1</th>\n",
       "      <td>1.072601e-02</td>\n",
       "      <td>0</td>\n",
       "    </tr>\n",
       "    <tr>\n",
       "      <th>2</th>\n",
       "      <td>-2.357639e-12</td>\n",
       "      <td>1</td>\n",
       "    </tr>\n",
       "    <tr>\n",
       "      <th>3</th>\n",
       "      <td>-5.551826e-03</td>\n",
       "      <td>1</td>\n",
       "    </tr>\n",
       "    <tr>\n",
       "      <th>4</th>\n",
       "      <td>-5.396612e-01</td>\n",
       "      <td>1</td>\n",
       "    </tr>\n",
       "  </tbody>\n",
       "</table>\n",
       "</div>"
      ],
      "text/plain": [
       "         y_pred  y_true\n",
       "0 -2.357639e-12       0\n",
       "1  1.072601e-02       0\n",
       "2 -2.357639e-12       1\n",
       "3 -5.551826e-03       1\n",
       "4 -5.396612e-01       1"
      ]
     },
     "execution_count": 57,
     "metadata": {},
     "output_type": "execute_result"
    }
   ],
   "source": [
    "pred_df = pd.DataFrame(prediction_list)\n",
    "pred_df.head()"
   ]
  },
  {
   "cell_type": "code",
   "execution_count": 58,
   "metadata": {},
   "outputs": [
    {
     "data": {
      "text/plain": [
       "<AxesSubplot:ylabel='Frequency'>"
      ]
     },
     "execution_count": 58,
     "metadata": {},
     "output_type": "execute_result"
    },
    {
     "data": {
      "image/png": "[encoded data removed]",
      "text/plain": [
       "<Figure size 432x288 with 1 Axes>"
      ]
     },
     "metadata": {
      "needs_background": "light"
     },
     "output_type": "display_data"
    }
   ],
   "source": [
    "pred_df['y_pred'].plot(kind='hist')"
   ]
  },
  {
   "cell_type": "code",
   "execution_count": 59,
   "metadata": {},
   "outputs": [
    {
     "data": {
      "text/plain": [
       "<AxesSubplot:ylabel='Frequency'>"
      ]
     },
     "execution_count": 59,
     "metadata": {},
     "output_type": "execute_result"
    },
    {
     "data": {
      "image/png": "[encoded data removed]",
      "text/plain": [
       "<Figure size 432x288 with 1 Axes>"
      ]
     },
     "metadata": {
      "needs_background": "light"
     },
     "output_type": "display_data"
    }
   ],
   "source": [
    "pred_df['y_true'].plot(kind='hist')"
   ]
  },
  {
   "cell_type": "code",
   "execution_count": 60,
   "metadata": {},
   "outputs": [
    {
     "data": {
      "text/plain": [
       "-0.664350530734745"
      ]
     },
     "execution_count": 60,
     "metadata": {},
     "output_type": "execute_result"
    }
   ],
   "source": [
    "r2_score(pred_df['y_true'], pred_df['y_pred'])"
   ]
  },
  {
   "cell_type": "code",
   "execution_count": 61,
   "metadata": {},
   "outputs": [],
   "source": [
    "pred_df.to_csv('prediction.csv', index=False)"
   ]
  },
  {
   "cell_type": "code",
   "execution_count": null,
   "metadata": {},
   "outputs": [],
   "source": []
  }
 ],
 "metadata": {
  "kernelspec": {
   "display_name": "Python 3",
   "language": "python",
   "name": "python3"
  },
  "language_info": {
   "codemirror_mode": {
    "name": "ipython",
    "version": 3
   },
   "file_extension": ".py",
   "mimetype": "text/x-python",
   "name": "python",
   "nbconvert_exporter": "python",
   "pygments_lexer": "ipython3",
   "version": "3.8.3"
  }
 },
 "nbformat": 4,
 "nbformat_minor": 4
}
